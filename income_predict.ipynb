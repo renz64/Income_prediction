{
 "cells": [
  {
   "cell_type": "markdown",
   "metadata": {},
   "source": [
    "Created on Wed Nov 10 15:03:06 2018\n",
    "#### Author: Renjini Ramadasan Nair"
   ]
  },
  {
   "cell_type": "markdown",
   "metadata": {},
   "source": [
    "##### Description of the data: \n",
    "\n",
    "Source citation: \n",
    "The data represents the census data from the UCI machine learning database (http://archive.ics.uci.edu/ml/machine-learning-databases/adult/adult.data). Detailed information can be read by referring to the original publication (http://robotics.stanford.edu/~ronnyk/nbtree.pdf).\n",
    "\n",
    "Data Cleaning (Optional to read this segment): \n",
    "There were 15 attributes, of which I have loaded 9 attributes/columns into a dataframe named 'adult' for further analyses. The 9 attributes were the age, workclass, fnlwgt, education-num, sex, capital-gain, capital-loss, hours-per-week and income columns. Of these, age, fnlwgt, capital-gain, capital-loss and hours-per-week were numerical attributes and the rest categorical. Initially there were 32561 rows. There were no null values in the numerical data columns, but were present in some categorical columns. Then I performed data cleaning by following the steps outlined below.\n",
    "The numerical column 'fnlwgt' had outliers, which were replaced with the median value, followed by z-standardization. A plotted histogram showed that this attribute has a more or less normal distribution. \n",
    "For the 'capital-gain' and 'capital-loss' columns, the rows with a few extreme values (>20000 for capital-gain and >3000 for capital loss) were removed. These two columns were also standardized by z-normalization.\n",
    "The outliers in the age column were replaced with the median of the non-null values. For the 'age' and 'hours-per-week' columns, the values were binned into 1 (low), 2 (medium) and 3 (high) categories. The obsolete parent columns were deleted.\n",
    "For the 'education-num', 'workclass' and 'sex' variables, the categories were decoded, imputed and consolidated. The 'education-num' variable was categorized into Primary (all education lesser than college), Bachelor, Master, Professional and Doctorate. The Doctoral was later consolidated into Professional. The 'workclass' column was categorized into Private, Government and Unemployed categories. The missing values in the 'workclass' column were imputed with the most frequent 'Private' value. The 'sex' column had two categories , 'Male' and 'Female'. Dummy variables were derived for the all three categorical variables and the parental columns deleted.\n",
    "\n",
    "Following the data cleaning, there were 32297 rows and 15 columns in the 'adult' dataframe. Of the 15, 3 are z-standardized numerical columns named 'fnlwgt', 'capital-gain' and 'capital-loss'. 'Binned_age' and 'Binned_hours-per-week' are binned columns of the original numerical attributes. There were 2, 3 and 4 columns derived by one-hot encoding of the 'sex', 'workclass' and 'education-num' categorical columns respectively. The 'income' column represents the expert labels, claasifying each instance into income <= or > than 50000."
   ]
  },
  {
   "cell_type": "code",
   "execution_count": 2,
   "metadata": {},
   "outputs": [],
   "source": [
    "# Import the Numpy and Pandas libraries\n",
    "import numpy as np\n",
    "import pandas as pd\n",
    "import matplotlib.pyplot as plt\n",
    "from sklearn.preprocessing import StandardScaler\n",
    "from sklearn.cluster import KMeans\n",
    "from sklearn.ensemble import RandomForestClassifier \n",
    "from sklearn.linear_model import LogisticRegression\n",
    "from sklearn.model_selection import train_test_split\n",
    "from sklearn.metrics import *"
   ]
  },
  {
   "cell_type": "code",
   "execution_count": 3,
   "metadata": {},
   "outputs": [],
   "source": [
    "# Function definitions\n",
    "\n",
    "# Function for checking for outliers in the numeric value columns \n",
    "def outlier(var):\n",
    "    high = np.mean(var) + 2*np.std(var)\n",
    "    low = np.mean(var) - 2*np.std(var)\n",
    "    outliers = (var >= high) | (var <= low)\n",
    "    return outliers\n",
    "\n",
    "# Function to bin numerical columns\n",
    "def bins(x, n): \n",
    "    BinWidth = (max(x) - min(x))/n\n",
    "    bound1 = float('-inf')\n",
    "    bound2 = min(x) + 1 * BinWidth\n",
    "    bound3 = min(x) + 2 * BinWidth\n",
    "    bound4 = float('inf')\n",
    "    Binned = np.array([\" \"]*len(x)) \n",
    "    Binned[(bound1 < x) & (x <= bound2)] = 1 # Low\n",
    "    Binned[(bound2 < x) & (x <= bound3)] = 2 # Med\n",
    "    Binned[(bound3 < x) & (x  < bound4)] = 3 # High\n",
    "    return Binned\n",
    "\n",
    "# Function for z-standardization of a numerical column\n",
    "def norm(col): \n",
    "    x = np.array(col).astype(float)\n",
    "    X = pd.DataFrame(x) \n",
    "    y = StandardScaler().fit(X).transform(X)\n",
    "    return y\n"
   ]
  },
  {
   "cell_type": "code",
   "execution_count": 4,
   "metadata": {},
   "outputs": [],
   "source": [
    "# Download and load data from the url: http://archive.ics.uci.edu/ml/machine-learning-databases/adult/adult.names\n",
    "url = \"http://archive.ics.uci.edu/ml/machine-learning-databases/adult/adult.data\"\n",
    "adult1 = pd.read_csv(url, header=None)\n",
    "\n",
    "# Add column names\n",
    "adult1.columns = [\"age\", \"workclass\", \"fnlwgt\", \"education\", \"education-num\", \"marital-status\", \"occupation\", \"relationship\", \"race\", \"sex\", \"capital-gain\", \"capital-loss\", \"hours-per-week\", \"native-country\", \"income\"]\n",
    "\n",
    "# Select the columns needed to fulfill the current objectives; save as a new dataframe\n",
    "adult = adult1.loc[:, ['age', 'workclass', 'fnlwgt', 'education-num', 'sex', \"capital-gain\", \"capital-loss\", 'hours-per-week', 'income' ]]"
   ]
  },
  {
   "cell_type": "code",
   "execution_count": 5,
   "metadata": {},
   "outputs": [],
   "source": [
    "# Remove/replace outliers for the numerical columns. \n",
    "\n",
    "# Replace outliers with median values for the numerical column, fnlwgt.\n",
    "outliers = outlier(adult['fnlwgt'])\n",
    "adult.loc[outliers, 'fnlwgt'] = np.median(adult.loc[:,\"fnlwgt\"])\n",
    "\n",
    "# Remove rows with outlier values; For the capital-gain and capital-loss variables\n",
    "# capital-gain\n",
    "adult.loc[:,\"capital-gain\"].sort_values()\n",
    "high1 = adult.loc[:,\"capital-gain\"] > 20000\n",
    "adult = adult.loc[~high1, :]\n",
    "# capital-loss\n",
    "adult.loc[:,\"capital-loss\"].sort_values()\n",
    "high2 = adult.loc[:,\"capital-loss\"] > 3000\n",
    "adult = adult.loc[~high2, :]"
   ]
  },
  {
   "cell_type": "code",
   "execution_count": 6,
   "metadata": {},
   "outputs": [],
   "source": [
    "# Normalize values for the numerical columns by z-standardization\n",
    "\n",
    "# Normalize the fnlwgt column; plot the normalized fnlwgt data.\n",
    "col = adult[\"fnlwgt\"]\n",
    "adult[\"fnlwgt\"] = norm(col)\n",
    "\n",
    "# Normalize the capital-gain column\n",
    "col = adult[\"capital-gain\"]\n",
    "adult[\"capital-gain\"] = norm(col)\n",
    "\n",
    "# Normalize the capital-loss column\n",
    "col = adult[\"capital-loss\"]\n",
    "adult[\"capital-loss\"] = norm(col)"
   ]
  },
  {
   "cell_type": "code",
   "execution_count": 7,
   "metadata": {},
   "outputs": [],
   "source": [
    "# Bin the numerical columns (age, hours-per-week)kmeans = KMeans(n_clusters=5).fit(adult_k)\n",
    "# age - Equal-width Binning using numpy\n",
    "x = np.array(adult['age'])\n",
    "adult['Binned_age'] = bins(x, 6)\n",
    "# hours-per-week - Equal-width Binning using numpy\n",
    "x = np.array(adult['hours-per-week'])\n",
    "adult['Binned_hours-per-week'] = bins(x, 6)\n",
    "\n",
    "# Delete obsolete column age and hours-per-week columns\n",
    "adult.drop('age', axis = 1, inplace = True)\n",
    "adult.drop('hours-per-week', axis = 1, inplace = True)"
   ]
  },
  {
   "cell_type": "code",
   "execution_count": 8,
   "metadata": {},
   "outputs": [],
   "source": [
    "# Decode education-num column, impute categories and consolidate\n",
    "# Decode and impute\n",
    "adult.loc[adult.loc[:, 'education-num'] <=12, 'education-num'] = 'Primary'\n",
    "adult.loc[adult.loc[:, 'education-num'] ==13, 'education-num'] = 'Bachelor'\n",
    "adult.loc[adult.loc[:, 'education-num'] ==14, 'education-num'] = 'Master'\n",
    "adult.loc[adult.loc[:, 'education-num'] ==15, 'education-num'] = 'Professional'\n",
    "adult.loc[adult.loc[:, 'education-num'] ==16, 'education-num'] = 'Doctorate'\n",
    "# Consolidate professional and doctorate into professional\n",
    "adult.loc[adult.loc[:, 'education-num'] =='Doctorate', 'education-num'] = 'Professional'\n",
    "\n",
    "# Decode the other categorical variable, workclass; impute categories, consolidate and add dummy variables\n",
    "adult.loc[(adult.loc[:, 'workclass'] == ' State-gov'), 'workclass'] = 'Government'\n",
    "adult.loc[adult.loc[:, 'workclass'] == ' Self-emp-not-inc', 'workclass'] = 'Unemployed'\n",
    "adult.loc[adult.loc[:, 'workclass'] == ' Federal-gov', 'workclass'] = 'Government'\n",
    "adult.loc[adult.loc[:, 'workclass'] == ' Local-gov', 'workclass'] = 'Government'\n",
    "adult.loc[adult.loc[:, 'workclass'] == ' Self-emp-inc', 'workclass'] = 'Private'\n",
    "adult.loc[adult.loc[:, 'workclass'] == ' Without-pay', 'workclass'] = 'Unemployed'\n",
    "adult.loc[adult.loc[:, 'workclass'] == ' Never-worked', 'workclass'] = 'Unemployed'\n",
    "adult.loc[adult.loc[:, 'workclass'] == ' Private', 'workclass'] = 'Private'\n",
    "# Private seems highest, so impute '?' with Private\n",
    "adult.loc[adult.loc[:, 'workclass'] == ' ?', 'workclass'] = 'Private'\n",
    "# Save the dataframe as a copy for plotting purpose\n",
    "adult2 = adult.copy()\n",
    "# add dummy variables\n",
    "adult.loc[:, \"Government\"] = (adult.loc[:, \"workclass\"] == \"Government\").astype(int)\n",
    "adult.loc[:, \"Private\"] = (adult.loc[: , \"workclass\"] == \"Private\").astype(int)\n",
    "adult.loc[:, \"Unemployed\"] = (adult.loc[:, \"workclass\"] == \"Unemployed\").astype(int)\n",
    "adult.drop('workclass', axis = 1, inplace = True)\n",
    "\n",
    "# add dummy variables for the categorical column education-num\n",
    "adult[['Bachelor', 'Master', 'Primary', 'Professional']] = pd.get_dummies(adult['education-num'])\n",
    "# Delete the obsolete education-num column\n",
    "adult.drop('education-num', axis = 1, inplace = True)\n",
    "\n",
    "# add dummy variables for the sex column and delete parent column\n",
    "adult[['Female', 'Male']] = pd.get_dummies(adult['sex'])\n",
    "adult.drop('sex', axis = 1, inplace = True)\n",
    "\n",
    "# Replace the '<=50K' and '>50K' with 1 and 0 respectively, in the income column\n",
    "adult.loc[(adult.loc[:, 'income'] == ' <=50K'), 'income'] = 1\n",
    "adult.loc[(adult.loc[:, 'income'] == ' >50K'), 'income'] = 0\n"
   ]
  },
  {
   "cell_type": "code",
   "execution_count": 9,
   "metadata": {},
   "outputs": [],
   "source": [
    "# Remove the expert label column 'income' and save as another dataframe\n",
    "adult_k = adult.loc[:, ['fnlwgt', 'capital-gain', 'capital-loss', 'Binned_age', 'Binned_hours-per-week', 'Bachelor', 'Master', 'Primary', 'Professional', 'Government', 'Private', 'Unemployed', 'Female', 'Male']]\n",
    "# Use scikit-learn to perform clustering\n",
    "kmeans = KMeans(n_clusters=6).fit(adult_k)\n",
    "Labels = kmeans.labels_\n",
    "ClusterCentroids = pd.DataFrame(kmeans.cluster_centers_)\n",
    "# Add the labels obtained by clustering as a new column to the original dataframe\n",
    "adult.loc[:, 'labels'] = Labels\n",
    "# plt.hist(adult['labels']);"
   ]
  },
  {
   "cell_type": "code",
   "execution_count": 10,
   "metadata": {},
   "outputs": [],
   "source": [
    "# Supervised learning: Is it possbile to classify the individulas into 2 income classes based on these 15 attributes?\n",
    "\n",
    "# Split data into training and test sets\n",
    "X = adult[['fnlwgt', 'capital-gain', 'capital-loss', 'Binned_age', 'Binned_hours-per-week', 'Bachelor', 'Master', 'Primary', 'Professional', 'Government', 'Private', 'Unemployed', 'Female', 'Male', 'labels']]\n",
    "# Note: I removed the 'fnlwgt' column from analysis, because the removal increased the accuracy of the predictions.\n",
    "# The 'income' column was used as the expert label column, based on the original data from the UCI database\n",
    "Y = adult['income']\n",
    "# Specifying model training on 80% of the data, by using a test-size of 20%\n",
    "X_train, X_test, Y_train, Y_test = train_test_split(X, Y, test_size = 0.20)"
   ]
  },
  {
   "cell_type": "code",
   "execution_count": 11,
   "metadata": {},
   "outputs": [],
   "source": [
    "# Classification by Random Forest classifier\n",
    "estimators = 10 # number of trees parameter\n",
    "mss = 2 # mininum samples split parameter\n",
    "clf = RandomForestClassifier(n_estimators=estimators, min_samples_split=mss) # default parameters are fine\n",
    "# Fit the model using the training set\n",
    "clf.fit(X_train, Y_train)\n",
    "# Predict for the test set\n",
    "Y_preds = clf.predict(X_test)\n"
   ]
  },
  {
   "cell_type": "code",
   "execution_count": 12,
   "metadata": {},
   "outputs": [],
   "source": [
    "# Metrics analyses\n",
    "# Confusion Matrix using the default probability threshold of 0.5\n",
    "CM = confusion_matrix(Y_test, Y_preds)\n",
    "# TP, TN, FP, FN\n",
    "tn, fp, fn, tp = CM.ravel()\n",
    "# Accuracy rate\n",
    "AR = accuracy_score(Y_test, Y_preds)\n",
    "# Error rate\n",
    "ER = 1.0 - AR\n",
    "# Precision\n",
    "P = precision_score(Y_test, Y_preds)\n",
    "# Recall\n",
    "R = recall_score(Y_test, Y_preds)\n",
    "# F1 score\n",
    "F1 = f1_score(Y_test, Y_preds)\n",
    "# ROC analysis\n",
    "# TP rates, FP rates and Probability thresholds\n",
    "fpr, tpr, th = roc_curve(Y_test, Y_preds)\n",
    "# AUC score (using auc function)\n",
    "AUC = auc(fpr, tpr)"
   ]
  },
  {
   "cell_type": "code",
   "execution_count": 13,
   "metadata": {},
   "outputs": [],
   "source": [
    "# Classification by Logistic Regression\n",
    "clf = LogisticRegression(solver = 'liblinear')\n",
    "clf.fit(X_train, Y_train)\n",
    "Y_predsl = clf.predict(X_test)\n",
    "# Metrics analyses\n",
    "CML = confusion_matrix(Y_test, Y_predsl)\n",
    "tnl, fpl, fnl, tpl = CML.ravel()\n",
    "ARL = accuracy_score(Y_test, Y_predsl)\n",
    "ERL = 1.0 - ARL\n",
    "PL = precision_score(Y_test, Y_predsl)\n",
    "RL = recall_score(Y_test, Y_predsl)\n",
    "F1L = f1_score(Y_test, Y_predsl)\n",
    "fprl, tprl, thl = roc_curve(Y_test, Y_predsl)\n",
    "AUCL = auc(fprl, tprl)"
   ]
  },
  {
   "cell_type": "code",
   "execution_count": 14,
   "metadata": {},
   "outputs": [],
   "source": [
    "# Create a datframe of actual and predicted classifications of the test set\n",
    "adult_analysis = pd.DataFrame()\n",
    "adult_analysis['Actual'] = Y_test\n",
    "adult_analysis['RF_Predicted'] = Y_preds\n",
    "adult_analysis['LR_Predicted'] = Y_predsl"
   ]
  },
  {
   "cell_type": "code",
   "execution_count": 15,
   "metadata": {},
   "outputs": [],
   "source": [
    "# Main Body\n",
    "\n",
    "# Main function: Plot a histogram of the standardized fnlwgt data\n",
    "def _zstdplot_main(): \n",
    "    print('\\nThe fnlwgt data plot after normlization by z-standardization: ')\n",
    "    plt.hist(adult[\"fnlwgt\"]);\n",
    "    plt.title('The Z-standardized fnlwgt data')\n",
    "    plt.xlabel('Final Weight')\n",
    "    plt.ylabel('Frequency')\n",
    "    plt.show()\n",
    "\n",
    "def _edunumplot_main():\n",
    "    print('\\nPlot of the education-num categorical attribute after data cleaning: ')\n",
    "    adult2['education-num'].value_counts().plot(kind='bar');\n",
    "    plt.title('Education status')\n",
    "    plt.xlabel('Education-score')\n",
    "    plt.ylabel('Frequency')\n",
    "    plt.show()\n",
    "    \n",
    "def _workclassplot_main():\n",
    "    print('\\nPlot of the workclass categorical attribute after data cleaning: ')\n",
    "    adult2['workclass'].value_counts().plot(kind='bar')\n",
    "    plt.title('Work Class by profession')\n",
    "    plt.xlabel('Work Class')\n",
    "    plt.ylabel('Frequency')\n",
    "    plt.show()\n",
    "    \n",
    "# Main function: Print the edited dataframe\n",
    "def _printdf_main(): \n",
    "    print('\\nThe final adult dataframe with the clustered \"labels\":')\n",
    "    print(adult.head())\n",
    "\n",
    "# Main function: Save the predicted and real test labels as a csv file\n",
    "def _csvsave_main():   \n",
    "    adult_analysis.to_csv(\"renjini-result.csv\", sep=',', header = True, index = False)\n",
    "\n",
    "# Main function: Print the classifier and accuracy for the random forest classifier\n",
    "def _rfclass_main(): \n",
    "    print ('\\nRandom Forest classifier\\n')\n",
    "    print (\"\\nConfusion matrix:\\n\", CM)\n",
    "    print (\"\\nTP, TN, FP, FN:\", tp, \",\", tn, \",\", fp, \",\", fn)\n",
    "    print (\"\\nAccuracy rate:\", AR)\n",
    "    print (\"\\nError rate:\", ER)\n",
    "    print (\"\\nPrecision:\", np.round(P, 2))\n",
    "    print (\"\\nRecall:\", np.round(R, 2))\n",
    "    print (\"\\nF1 score:\", np.round(F1, 2))\n",
    "    print (\"\\nTP rates:\", np.round(tpr, 2))\n",
    "    print (\"\\nFP rates:\", np.round(fpr, 2))\n",
    "    print (\"\\nProbability thresholds:\", np.round(th, 2))\n",
    "    print (\"\\nAUC score (using auc function):\", np.round(AUC, 2))\n",
    "    print (\"\\nAUC score (using roc_auc_score function):\", np.round(roc_auc_score(Y_test, Y_preds), 2), \"\\n\")\n",
    "\n",
    "# Main function: Plot the ROC for the RF classifier\n",
    "def _rfroc_main():\n",
    "    plt.figure()\n",
    "    plt.title('Receiver Operating Characteristic curve for the Random Forest Classifier')\n",
    "    plt.xlim([0.0, 1.0])\n",
    "    plt.ylim([0.0, 1.05])\n",
    "    plt.xlabel('FALSE Positive Rate')\n",
    "    plt.ylabel('TRUE Positive Rate')\n",
    "    plt.plot(fpr, tpr, label='ROC curve (area = %0.2f)' % AUC)\n",
    "    plt.plot([0, 1], [0, 1], color='navy', linestyle='--') # reference line for random classifier\n",
    "    plt.legend()\n",
    "    plt.show()\n",
    "\n",
    "# Main function: Print the classifier and accuracy\n",
    "def _logregclass_main(): \n",
    "    print ('\\nLogistic Regression classifier\\n')\n",
    "    print (\"\\nConfusion matrix:\\n\", CML)\n",
    "    print (\"\\nTP, TN, FP, FN:\", tpl, \",\", tnl, \",\", fpl, \",\", fnl)\n",
    "    print (\"\\nAccuracy rate:\", ARL)\n",
    "    print (\"\\nError rate:\", ERL)\n",
    "    print (\"\\nPrecision:\", np.round(PL, 2))\n",
    "    print (\"\\nRecall:\", np.round(RL, 2))\n",
    "    print (\"\\nF1 score:\", np.round(F1L, 2))\n",
    "    print (\"\\nTP rates:\", np.round(tprl, 2))\n",
    "    print (\"\\nFP rates:\", np.round(fprl, 2))\n",
    "    print (\"\\nProbability thresholds:\", np.round(thl, 2))\n",
    "    print (\"\\nAUC score (using auc function):\", np.round(AUCL, 2))\n",
    "    print (\"\\nAUC score (using roc_auc_score function):\", np.round(roc_auc_score(Y_test, Y_predsl), 2), \"\\n\")\n",
    "\n",
    "# Main function: Plot the ROC\n",
    "def _logregroc_main():\n",
    "    plt.figure()\n",
    "    plt.title('Receiver Operating Characteristic curve for Logistic Regression Classifier')\n",
    "    plt.xlim([0.0, 1.0])\n",
    "    plt.ylim([0.0, 1.05])\n",
    "    plt.xlabel('FALSE Positive Rate')\n",
    "    plt.ylabel('TRUE Positive Rate')\n",
    "    plt.plot(fprl, tprl, label='ROC curve (area = %0.2f)' % AUCL)\n",
    "    plt.plot([0, 1], [0, 1], color='navy', linestyle='--') # reference line for random classifier\n",
    "    plt.legend()\n",
    "    plt.show()\n"
   ]
  },
  {
   "cell_type": "code",
   "execution_count": 19,
   "metadata": {},
   "outputs": [
    {
     "name": "stdout",
     "output_type": "stream",
     "text": [
      "\n",
      "The fnlwgt data plot after normlization by z-standardization: \n"
     ]
    },
    {
     "data": {
      "image/png": "[encoded data removed]",
      "text/plain": [
       "<Figure size 432x288 with 1 Axes>"
      ]
     },
     "metadata": {},
     "output_type": "display_data"
    },
    {
     "name": "stdout",
     "output_type": "stream",
     "text": [
      "\n",
      "Plot of the education-num categorical attribute after data cleaning: \n"
     ]
    },
    {
     "data": {
      "image/png": "[encoded data removed]",
      "text/plain": [
       "<Figure size 432x288 with 1 Axes>"
      ]
     },
     "metadata": {},
     "output_type": "display_data"
    },
    {
     "name": "stdout",
     "output_type": "stream",
     "text": [
      "\n",
      "Plot of the workclass categorical attribute after data cleaning: \n"
     ]
    },
    {
     "data": {
      "image/png": "[encoded data removed]",
      "text/plain": [
       "<Figure size 432x288 with 1 Axes>"
      ]
     },
     "metadata": {},
     "output_type": "display_data"
    },
    {
     "name": "stdout",
     "output_type": "stream",
     "text": [
      "\n",
      "The final adult dataframe with the clustered \"labels\":\n",
      "     fnlwgt  capital-gain  capital-loss  income Binned_age  \\\n",
      "0 -1.199815      0.755429     -0.217573       1          2   \n",
      "1 -1.130503     -0.238499     -0.217573       1          3   \n",
      "2  0.452321     -0.238499     -0.217573       1          2   \n",
      "3  0.680472     -0.238499     -0.217573       1          3   \n",
      "4  1.920656     -0.238499     -0.217573       1          1   \n",
      "\n",
      "  Binned_hours-per-week  Government  Private  Unemployed  Bachelor  Master  \\\n",
      "0                     3           1        0           0         1       0   \n",
      "1                     1           0        0           1         1       0   \n",
      "2                     3           0        1           0         0       0   \n",
      "3                     3           0        1           0         0       0   \n",
      "4                     3           0        1           0         1       0   \n",
      "\n",
      "   Primary  Professional  Female  Male  labels  \n",
      "0        0             0       0     1       2  \n",
      "1        0             0       0     1       2  \n",
      "2        1             0       0     1       5  \n",
      "3        1             0       0     1       2  \n",
      "4        0             0       1     0       5  \n",
      "\n",
      "Random Forest classifier\n",
      "\n",
      "\n",
      "Confusion matrix:\n",
      " [[ 817  659]\n",
      " [ 694 4290]]\n",
      "\n",
      "TP, TN, FP, FN: 4290 , 817 , 659 , 694\n",
      "\n",
      "Accuracy rate: 0.7905572755417957\n",
      "\n",
      "Error rate: 0.20944272445820433\n",
      "\n",
      "Precision: 0.87\n",
      "\n",
      "Recall: 0.86\n",
      "\n",
      "F1 score: 0.86\n",
      "\n",
      "TP rates: [0.   0.86 1.  ]\n",
      "\n",
      "FP rates: [0.   0.45 1.  ]\n",
      "\n",
      "Probability thresholds: [2 1 0]\n",
      "\n",
      "AUC score (using auc function): 0.71\n",
      "\n",
      "AUC score (using roc_auc_score function): 0.71 \n",
      "\n"
     ]
    },
    {
     "data": {
      "image/png": "[encoded data removed]",
      "text/plain": [
       "<Figure size 432x288 with 1 Axes>"
      ]
     },
     "metadata": {},
     "output_type": "display_data"
    },
    {
     "name": "stdout",
     "output_type": "stream",
     "text": [
      "\n",
      "Logistic Regression classifier\n",
      "\n",
      "\n",
      "Confusion matrix:\n",
      " [[ 650  826]\n",
      " [ 275 4709]]\n",
      "\n",
      "TP, TN, FP, FN: 4709 , 650 , 826 , 275\n",
      "\n",
      "Accuracy rate: 0.8295665634674922\n",
      "\n",
      "Error rate: 0.17043343653250775\n",
      "\n",
      "Precision: 0.85\n",
      "\n",
      "Recall: 0.94\n",
      "\n",
      "F1 score: 0.9\n",
      "\n",
      "TP rates: [0.   0.94 1.  ]\n",
      "\n",
      "FP rates: [0.   0.56 1.  ]\n",
      "\n",
      "Probability thresholds: [2 1 0]\n",
      "\n",
      "AUC score (using auc function): 0.69\n",
      "\n",
      "AUC score (using roc_auc_score function): 0.69 \n",
      "\n"
     ]
    },
    {
     "data": {
      "image/png": "[encoded data removed]",
      "text/plain": [
       "<Figure size 432x288 with 1 Axes>"
      ]
     },
     "metadata": {},
     "output_type": "display_data"
    }
   ],
   "source": [
    "if __name__ == \"__main__\":\n",
    "# Plot a histogram of the standardized fnlwgt data\n",
    "    _zstdplot_main()\n",
    "# Plot a histogram of the categorical education-num attribute\n",
    "    _edunumplot_main()\n",
    "# Plot a histogram of the categorical workclass column\n",
    "    _workclassplot_main()\n",
    "# Print the edited dataframe\n",
    "    _printdf_main()\n",
    "# Save the adult_analysis dataframe as a csv\n",
    "    _csvsave_main()\n",
    "# Print the analysis metrics for the Random Forest Classifier\n",
    "    _rfclass_main()\n",
    "# Plot the ROC\n",
    "    _rfroc_main()\n",
    "# Print the analysis metrics for the Random Forest Classifier\n",
    "    _logregclass_main()\n",
    "# Plot the ROC\n",
    "    _logregroc_main()"
   ]
  },
  {
   "cell_type": "markdown",
   "metadata": {},
   "source": [
    "The attributes used were as follows.\n",
    "fnlwgt: Numerical, z-standardized values\n",
    "capital-gain: Numerical, z-standardized values \n",
    "capital-loss: Numerical, z-standardized values\n",
    "Binned_age: The numerical 'age' column, binned and categorized\n",
    "Binned_hours-per-week: The numerical 'hours-per-week' column, binned and categorized\n",
    "Male: Categorical column denoting the gender\n",
    "Female: Categorical column denoting the gender\n",
    "Primary: Categorical column denoting the education level, derived from the 'education-num' attribute\n",
    "Bachelor: Categorical column denoting the education level, derived from the 'education-num' attribute\n",
    "Master: Categorical column denoting the education level, derived from the 'education-num' attribute\n",
    "Professional: Categorical column denoting the education level, derived from the 'education-num' attribute\n",
    "Private: One hot encoded category derived from the 'workclass' column \n",
    "Government: One hot encoded category derived from the 'workclass' column\n",
    "Unemployed: One hot encoded category derived from the 'workclass' column\n",
    "income: Expert label column denoting whether the calssification is <=50000 or >50000\n",
    "\n",
    "Relevant questions: \n",
    "1. Do the age, education level or gender of the individuals affect their annual income?\n",
    "2. What is the effect of fnlwgt, capital-loss and capital-gain variables on the annual income? \n",
    "3. How much does work-hours of the individual influence the individual's annual income? For example, is there a direct correlation between the work-hours and income?\n",
    "4. Is the annual income affected by the workclass/employment status?\n",
    "\n",
    "For performing an unsupervised K-means clustering, the 14 attributes in the adult dataframe except the 'income' column, were loaded into a new dataframe termed 'adult_k'. The new dataframe had 14 columns and all 32297 instances. After clustering, the K-means transformed 'labels' were appended as a 16th column to the original 'adult' dataframe. \n",
    "\n",
    "I used the random forest and logistic regression classifiers to build and test the models. I found that excluding the fnlwgt column improved the accuracy of the predictions, so removed it. \n",
    "First, a Random Forest classification was performed to predict the income of the test data, after training the dataset with 80% of the data. I found that using the non-binned 'age' and 'hours-per-week' did not yield any worse result with the random forest classifier (data not shown) than with the binned variables. \n",
    "I used the default probability threshold of 0.5 for constructing the confusion matrix and the rest of the metrics. The preliminary analysis showed that the accuracy of the prediction was approximately 84%, using the random forest classifier on the attributes. The analysis metrics were printed along with the ROC curve. The AUC score was 0.70. \n",
    "With the logistic regression classifier, the accuracy of the prediction was approximately 83%. The AUC score was 0.71. \n",
    "Overall, I found that both the calssifiers showed more or less similar predictions, except that logistic regression showed a better recall of around 93%, while random forest maintained recall at 86%. \n",
    "The predicted labels and real values were then loaded into a new dataframe labeled 'adult_analysis', and saved as a csv file.\n"
   ]
  }
 ],
 "metadata": {
  "kernelspec": {
   "display_name": "Python [conda env:data]",
   "language": "python",
   "name": "conda-env-data-py"
  },
  "language_info": {
   "codemirror_mode": {
    "name": "ipython",
    "version": 3
   },
   "file_extension": ".py",
   "mimetype": "text/x-python",
   "name": "python",
   "nbconvert_exporter": "python",
   "pygments_lexer": "ipython3",
   "version": "3.7.1"
  }
 },
 "nbformat": 4,
 "nbformat_minor": 2
}
